{
 "cells": [
  {
   "cell_type": "code",
   "execution_count": 34,
   "id": "2f3e8a66",
   "metadata": {},
   "outputs": [],
   "source": [
    "import numpy as np\n",
    "a = np.load(\"../results/eenetcopy_results1 step_size 50.npy\")\n",
    "a = np.mean(a, axis = 0)"
   ]
  },
  {
   "cell_type": "code",
   "execution_count": 36,
   "id": "27217daf",
   "metadata": {
    "scrolled": true
   },
   "outputs": [
    {
     "name": "stdout",
     "output_type": "stream",
     "text": [
      "850.3333333333334\n"
     ]
    }
   ],
   "source": [
    "print(a[7000])"
   ]
  },
  {
   "cell_type": "code",
   "execution_count": 28,
   "id": "ef9ebc8a",
   "metadata": {},
   "outputs": [
    {
     "name": "stdout",
     "output_type": "stream",
     "text": [
      "784.6\n"
     ]
    }
   ],
   "source": [
    "print(a[5000])"
   ]
  },
  {
   "cell_type": "code",
   "execution_count": 29,
   "id": "8c0e41f2",
   "metadata": {},
   "outputs": [
    {
     "name": "stdout",
     "output_type": "stream",
     "text": [
      "523.4\n"
     ]
    }
   ],
   "source": [
    "print(a[2000])"
   ]
  },
  {
   "cell_type": "code",
   "execution_count": 30,
   "id": "58d0d85e",
   "metadata": {},
   "outputs": [
    {
     "name": "stdout",
     "output_type": "stream",
     "text": [
      "628.2\n"
     ]
    }
   ],
   "source": [
    "print(a[3000])"
   ]
  },
  {
   "cell_type": "code",
   "execution_count": 31,
   "id": "5517dfdb",
   "metadata": {},
   "outputs": [
    {
     "name": "stdout",
     "output_type": "stream",
     "text": [
      "710.0\n"
     ]
    }
   ],
   "source": [
    "print(a[4000])"
   ]
  },
  {
   "cell_type": "code",
   "execution_count": 32,
   "id": "ef471ed4",
   "metadata": {},
   "outputs": [
    {
     "name": "stdout",
     "output_type": "stream",
     "text": [
      "980.2\n"
     ]
    }
   ],
   "source": [
    "print(a[8000])"
   ]
  },
  {
   "cell_type": "code",
   "execution_count": 35,
   "id": "f225d6a3",
   "metadata": {},
   "outputs": [
    {
     "data": {
      "text/plain": [
       "1020.0"
      ]
     },
     "execution_count": 35,
     "metadata": {},
     "output_type": "execute_result"
    }
   ],
   "source": [
    "a[9999]"
   ]
  },
  {
   "cell_type": "code",
   "execution_count": 43,
   "id": "cc548829",
   "metadata": {},
   "outputs": [
    {
     "name": "stdout",
     "output_type": "stream",
     "text": [
      "[[1.000e+00 2.000e+00 3.000e+00 ... 1.100e+03 1.100e+03 1.100e+03]\n",
      " [1.000e+00 2.000e+00 3.000e+00 ... 1.133e+03 1.133e+03 1.133e+03]\n",
      " [1.000e+00 2.000e+00 3.000e+00 ... 1.120e+03 1.120e+03 1.120e+03]]\n"
     ]
    }
   ],
   "source": [
    "a = np.load(\"../results/eenetcopy_results1 step_size 50.npy\")\n",
    "print(a)"
   ]
  },
  {
   "cell_type": "code",
   "execution_count": null,
   "id": "5e2a5ef3",
   "metadata": {},
   "outputs": [],
   "source": []
  }
 ],
 "metadata": {
  "kernelspec": {
   "display_name": "Python 3",
   "language": "python",
   "name": "python3"
  },
  "language_info": {
   "codemirror_mode": {
    "name": "ipython",
    "version": 3
   },
   "file_extension": ".py",
   "mimetype": "text/x-python",
   "name": "python",
   "nbconvert_exporter": "python",
   "pygments_lexer": "ipython3",
   "version": "3.8.8"
  }
 },
 "nbformat": 4,
 "nbformat_minor": 5
}
