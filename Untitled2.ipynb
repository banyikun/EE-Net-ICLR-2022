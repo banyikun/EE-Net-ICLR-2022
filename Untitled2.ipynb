{
 "cells": [
  {
   "cell_type": "code",
   "execution_count": 17,
   "id": "df1abf5f",
   "metadata": {},
   "outputs": [
    {
     "name": "stdout",
     "output_type": "stream",
     "text": [
      "/home/yikunb2/anaconda3/lib/python3.8/site-packages/torchvision/datasets/mnist.py:498: UserWarning: The given NumPy array is not writeable, and PyTorch does not support non-writeable tensors. This means you can write to the underlying (supposedly non-writeable) NumPy array using the tensor. You may want to copy the array to protect its data or make it writeable before converting it to a tensor. This type of warning will be suppressed for the rest of this program. (Triggered internally at  /opt/conda/conda-bld/pytorch_1623448278899/work/torch/csrc/utils/tensor_numpy.cpp:180.)\n",
      "  return torch.from_numpy(parsed.astype(m[2], copy=False)).view(*s)\n",
      "f3_lr 0.001\n",
      "round:0, regret: 1.0,  average_regret: 1.000, loss_1:0.0005, loss_2:0.0019, loss_3:0.0000\n",
      "^C\n",
      "Traceback (most recent call last):\n",
      "  File \"EENet_run.py\", line 35, in <module>\n",
      "    loss_1, loss_2, loss_3  = ee_net.train(t)\n",
      "  File \"/home/yikunb2/jupyter/ICLR 2022/code/EENet.py\", line 73, in train\n",
      "    loss_2 = self.f_2.train()\n",
      "  File \"/home/yikunb2/jupyter/ICLR 2022/code/EENetClass.py\", line 175, in train\n",
      "    delta = self.func(c.to(device)) - r\n",
      "  File \"/home/yikunb2/anaconda3/lib/python3.8/site-packages/torch/nn/modules/module.py\", line 1051, in _call_impl\n",
      "    return forward_call(*input, **kwargs)\n",
      "  File \"/home/yikunb2/jupyter/ICLR 2022/code/EENetClass.py\", line 42, in forward\n",
      "    x = self.conv1(x)\n",
      "  File \"/home/yikunb2/anaconda3/lib/python3.8/site-packages/torch/nn/modules/module.py\", line 1051, in _call_impl\n",
      "    return forward_call(*input, **kwargs)\n",
      "  File \"/home/yikunb2/anaconda3/lib/python3.8/site-packages/torch/nn/modules/conv.py\", line 298, in forward\n",
      "    return self._conv_forward(input, self.weight, self.bias)\n",
      "  File \"/home/yikunb2/anaconda3/lib/python3.8/site-packages/torch/nn/modules/conv.py\", line 294, in _conv_forward\n",
      "    return F.conv1d(input, weight, bias, self.stride,\n",
      "KeyboardInterrupt\n"
     ]
    }
   ],
   "source": [
    "! python EENet_run.py"
   ]
  },
  {
   "cell_type": "code",
   "execution_count": null,
   "id": "857f3dfe",
   "metadata": {},
   "outputs": [],
   "source": []
  },
  {
   "cell_type": "code",
   "execution_count": null,
   "id": "beb276e8",
   "metadata": {},
   "outputs": [],
   "source": []
  }
 ],
 "metadata": {
  "kernelspec": {
   "display_name": "Python 3",
   "language": "python",
   "name": "python3"
  },
  "language_info": {
   "codemirror_mode": {
    "name": "ipython",
    "version": 3
   },
   "file_extension": ".py",
   "mimetype": "text/x-python",
   "name": "python",
   "nbconvert_exporter": "python",
   "pygments_lexer": "ipython3",
   "version": "3.8.8"
  }
 },
 "nbformat": 4,
 "nbformat_minor": 5
}
